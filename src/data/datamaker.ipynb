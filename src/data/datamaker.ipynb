{
  "cells": [
    {
      "cell_type": "markdown",
      "metadata": {
        "id": "QFHS71wLVQiN"
      },
      "source": [
        "# Notebook to generate table-based data for model injection."
      ]
    },
    {
      "cell_type": "code",
      "execution_count": 1,
      "metadata": {
        "id": "0CRuF12gKG6I"
      },
      "outputs": [],
      "source": [
        "#Uncomment the next two lines if your are using Google Colab\n",
        "\n",
        "#from google.colab import drive\n",
        "#drive.mount('/content/drive')"
      ]
    },
    {
      "cell_type": "code",
      "execution_count": null,
      "metadata": {
        "id": "uTQoy2tBJlSK"
      },
      "outputs": [],
      "source": [
        "import os\n",
        "import pandas as pd\n",
        "\n",
        "from utils import (check_indoor, \n",
        "                   print_mat_nested,\n",
        "                   preprocess_subject,\n",
        "                   filter_values,\n",
        "                   loadmat,\n",
        "                   print_subj_stats)\n",
        "\n",
        "import gc\n",
        "\n",
        "gc.enable()\n",
        "\n",
        "data_folder = '.../Acquisitions/Data/TVS'\n",
        "data_format = 'data.mat'\n",
        "folder_out = '.../data/All'"
      ]
    },
    {
      "cell_type": "code",
      "execution_count": null,
      "metadata": {
        "id": "mKvMkYy9yNYr"
      },
      "outputs": [],
      "source": [
        "def makeData(data_folder, folder_out, data_format, ts=997417, verbose=False):\n",
        "  full_df = pd.DataFrame()\n",
        "  \n",
        "  for folder in os.listdir(data_folder):\n",
        "    for i,patient in enumerate(os.listdir(os.path.join(data_folder, folder))):\n",
        "      try:\n",
        "        print(f\"Processing patient id: {patient}\")\n",
        "        if os.path.isfile(os.path.join(folder_out, f'df_{patient}.csv')):\n",
        "          print(\"Existing file for ID: \", patient)\n",
        "\n",
        "        else:\n",
        "          \n",
        "          #-------------LOAD DATA-------------\n",
        "          filemat = os.path.join(data_folder, folder, patient, 'Out of Lab', data_format )\n",
        "          matdata = loadmat(filemat)\n",
        "          recording = matdata['data']['TimeMeasure1']['Recording4']\n",
        "          if verbose:\n",
        "            print_mat_nested(recording)\n",
        "\n",
        "          #---------CREATE RAW DATASET--------\n",
        "          df = pd.json_normalize(recording)\n",
        "\n",
        "          df_triaxial = pd.DataFrame()\n",
        "          for c in df.columns:\n",
        "            if 'Acc' in c and 'Fs' not in c:\n",
        "              df_triaxial[f'{c}_X (g)'] = pd.Series([v[0] for v in df[c].values[0]])\n",
        "              df_triaxial[f'{c}_Y (g)'] = pd.Series([v[1] for v in df[c].values[0]])\n",
        "              df_triaxial[f'{c}_Z (g)'] = pd.Series([v[2] for v in df[c].values[0]])\n",
        "            elif 'Gyr' in c and 'Fs' not in c:\n",
        "              df_triaxial[f'{c}_X (deg/s)'] = pd.Series([v[0] for v in df[c].values[0]])\n",
        "              df_triaxial[f'{c}_Y (deg/s)'] = pd.Series([v[1] for v in df[c].values[0]])\n",
        "              df_triaxial[f'{c}_Z (deg/s)'] = pd.Series([v[2] for v in df[c].values[0]])\n",
        "            elif 'Mag' in c and 'Fs' not in c:\n",
        "              df_triaxial[f'{c}_X (uT)'] = pd.Series([v[0] for v in df[c].values[0]])\n",
        "              df_triaxial[f'{c}_Y (uT)'] = pd.Series([v[1] for v in df[c].values[0]])\n",
        "              df_triaxial[f'{c}_Z (uT)'] = pd.Series([v[2] for v in df[c].values[0]])\n",
        "          df_triaxial['Timestamp (ms)'] = recording['SU_INDIP']['LowerBack']['Timestamp']\n",
        "          \n",
        "          #---------FILTER RAW DATASET--------\n",
        "          for ctxs in os.listdir(os.path.join(data_folder, folder, patient,\n",
        "                                              'Out of Lab/Contextual Factors')):\n",
        "            if ctxs.startswith('stay'):\n",
        "              staypts = pd.read_json(os.path.join(data_folder, folder, patient,\n",
        "                                    'Out of Lab/Contextual Factors', ctxs))['data']\n",
        "            elif ctxs.startswith('per'):\n",
        "              ctx = pd.read_json(os.path.join(data_folder, folder, patient,\n",
        "                                    'Out of Lab/Contextual Factors', ctxs))['data'][0]\n",
        "            elif ctxs.startswith('path'):\n",
        "              _ = pd.read_json(os.path.join(data_folder, folder, patient,\n",
        "                                    'Out of Lab/Contextual Factors', ctxs))\n",
        "\n",
        "          filtered_ctx = filter_values(ctx, df_triaxial, ts)\n",
        "          df_triaxial['Indoor Probability'] = pd.Series(check_indoor(filtered_ctx, staypts))\n",
        "\n",
        "\n",
        "          df_triaxial['Patient ID'] = pd.Series([patient for _ in range(len(df_triaxial))])\n",
        "          df_triaxial['Disease'] = pd.Series([folder for _ in range(len(df_triaxial))])\n",
        "          print(\"Length of current dataset: \",  len(df_triaxial))\n",
        "\n",
        "          if len(df_triaxial) > 0.5*ts:\n",
        "            print_subj_stats(df_triaxial)\n",
        "            print('Saving patient CSV file...')\n",
        "            df_triaxial = preprocess_subject(df_triaxial)\n",
        "            df_triaxial.to_csv(os.path.join(folder_out, f'df_{patient}.csv'))\n",
        "            print('Saved!')\n",
        "          else:\n",
        "            print('Too few samples for ID: ', patient)\n",
        "      except:\n",
        "          print(f'Corrupted patient file: {patient}')\n",
        "          continue\n",
        "      print('--------------------------')\n",
        "  return full_df"
      ]
    },
    {
      "cell_type": "code",
      "execution_count": null,
      "metadata": {
        "id": "YmPiyMVrUhng"
      },
      "outputs": [],
      "source": [
        "df = makeData(data_folder, folder_out, data_format)"
      ]
    }
  ],
  "metadata": {
    "colab": {
      "provenance": []
    },
    "kernelspec": {
      "display_name": "Python 3.10.4 ('gpu')",
      "language": "python",
      "name": "python3"
    },
    "language_info": {
      "codemirror_mode": {
        "name": "ipython",
        "version": 3
      },
      "file_extension": ".py",
      "mimetype": "text/x-python",
      "name": "python",
      "nbconvert_exporter": "python",
      "pygments_lexer": "ipython3",
      "version": "3.10.4"
    },
    "vscode": {
      "interpreter": {
        "hash": "61904c8fb5ddac050a66f3dc9523c0169d8b4e7e9ee2328227b1a6f5d66ad0af"
      }
    }
  },
  "nbformat": 4,
  "nbformat_minor": 0
}
